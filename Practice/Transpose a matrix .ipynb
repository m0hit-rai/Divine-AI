{
 "cells": [
  {
   "cell_type": "code",
   "execution_count": 21,
   "id": "a6946f6d",
   "metadata": {},
   "outputs": [],
   "source": [
    "def trans_mat1(mat):\n",
    "    t_mat = [[mat[j][i] for j in range(len(mat))] for i in range(len(mat[0]))]\n",
    "    return t_mat"
   ]
  },
  {
   "cell_type": "code",
   "execution_count": 22,
   "id": "dbc64242",
   "metadata": {},
   "outputs": [],
   "source": [
    "def trans_mat2(mat):\n",
    "    t_mat = zip(*mat)\n",
    "    return t_mat"
   ]
  },
  {
   "cell_type": "code",
   "execution_count": 23,
   "id": "9a265c74",
   "metadata": {},
   "outputs": [],
   "source": [
    "import numpy as np\n",
    "def trans_mat3(mat):\n",
    "    t_mat = np.array(mat)\n",
    "    return t_mat.T"
   ]
  },
  {
   "cell_type": "code",
   "execution_count": 24,
   "id": "717e6c61",
   "metadata": {},
   "outputs": [],
   "source": [
    "def trans_mat4(mat):\n",
    "    return(np.transpose(mat))"
   ]
  },
  {
   "cell_type": "code",
   "execution_count": 25,
   "id": "803e35b9",
   "metadata": {},
   "outputs": [
    {
     "name": "stdout",
     "output_type": "stream",
     "text": [
      "[[1, 4, 7], [2, 5, 8], [3, 6, 9]]\n",
      "<zip object at 0x000002458E315A40>\n",
      "[[1 4 7]\n",
      " [2 5 8]\n",
      " [3 6 9]]\n",
      "[[1 4 7]\n",
      " [2 5 8]\n",
      " [3 6 9]]\n"
     ]
    }
   ],
   "source": [
    "li=[[1,2,3],\n",
    "   [4,5,6],\n",
    "   [7,8,9]]\n",
    "print(trans_mat1(li))\n",
    "print(trans_mat2(li))\n",
    "print(trans_mat3(li))\n",
    "print(trans_mat4(li))"
   ]
  }
 ],
 "metadata": {
  "kernelspec": {
   "display_name": "Python 3",
   "language": "python",
   "name": "python3"
  },
  "language_info": {
   "codemirror_mode": {
    "name": "ipython",
    "version": 3
   },
   "file_extension": ".py",
   "mimetype": "text/x-python",
   "name": "python",
   "nbconvert_exporter": "python",
   "pygments_lexer": "ipython3",
   "version": "3.8.8"
  }
 },
 "nbformat": 4,
 "nbformat_minor": 5
}
